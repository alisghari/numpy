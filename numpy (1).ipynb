{
  "nbformat": 4,
  "nbformat_minor": 0,
  "metadata": {
    "colab": {
      "name": "numpy.ipynb",
      "provenance": []
    },
    "kernelspec": {
      "name": "python3",
      "display_name": "Python 3"
    },
    "language_info": {
      "name": "python"
    }
  },
  "cells": [
    {
      "cell_type": "code",
      "metadata": {
        "colab": {
          "base_uri": "https://localhost:8080/"
        },
        "id": "l8dyb-etlGex",
        "outputId": "ba91c89b-f459-411a-e20a-5b5a3880c414"
      },
      "source": [
        "#question1\n",
        "import numpy as np\n",
        "arr=np.array([1,2,3])\n",
        "convert=arr.tolist()\n",
        "print(convert)\n"
      ],
      "execution_count": null,
      "outputs": [
        {
          "output_type": "stream",
          "name": "stdout",
          "text": [
            "[1, 2, 3]\n"
          ]
        }
      ]
    },
    {
      "cell_type": "code",
      "metadata": {
        "colab": {
          "base_uri": "https://localhost:8080/"
        },
        "id": "tSJBipBmp6KS",
        "outputId": "1702d1aa-031f-444b-bceb-6cd369596b10"
      },
      "source": [
        "#question2\n",
        "import numpy as np\n",
        "m = np.arange(9).reshape(3,3)\n",
        "print (m)\n",
        "r=np.trace(m)\n",
        "print(r)"
      ],
      "execution_count": null,
      "outputs": [
        {
          "output_type": "stream",
          "name": "stdout",
          "text": [
            "[[0 1 2]\n",
            " [3 4 5]\n",
            " [6 7 8]]\n",
            "12\n"
          ]
        }
      ]
    },
    {
      "cell_type": "code",
      "metadata": {
        "colab": {
          "base_uri": "https://localhost:8080/"
        },
        "id": "ZZCs0HWiwP9n",
        "outputId": "d6f7b0fa-1901-43a4-ba65-9531b0b228b7"
      },
      "source": [
        "#question2 v.2\n",
        "import numpy as np\n",
        "m = np.arange(9).reshape(3,3)\n",
        "r=0\n",
        "for i in range (3):\n",
        "  b=m[i,i]\n",
        "  r=r+b\n",
        "print(m)\n",
        "print(r)"
      ],
      "execution_count": 22,
      "outputs": [
        {
          "output_type": "stream",
          "name": "stdout",
          "text": [
            "[[0 1 2]\n",
            " [3 4 5]\n",
            " [6 7 8]]\n",
            "12\n"
          ]
        }
      ]
    },
    {
      "cell_type": "code",
      "metadata": {
        "colab": {
          "base_uri": "https://localhost:8080/"
        },
        "id": "8IUt3NcfulWx",
        "outputId": "fd476d7d-e56b-488b-a5e2-36e69cbd075c"
      },
      "source": [
        "#question3\n",
        "import numpy as np\n",
        "\n",
        "A=np.array([[1,2,3],[1,7,3]])\n",
        "B=np.array([[8,69,45],[9,5,1]])\n",
        "C=[]\n",
        "for i in range (0,len(A)):\n",
        "  a=A[i]\n",
        "  \n",
        "  for j in range (0,i+1):\n",
        "    b=B[j]\n",
        "    \n",
        "  s=a+b\n",
        "  C.append(s)\n",
        "print(C)\n"
      ],
      "execution_count": 4,
      "outputs": [
        {
          "output_type": "stream",
          "name": "stdout",
          "text": [
            "[array([ 9, 71, 48]), array([10, 12,  4])]\n"
          ]
        },
        {
          "output_type": "execute_result",
          "data": {
            "text/plain": [
              "numpy.ndarray"
            ]
          },
          "metadata": {},
          "execution_count": 4
        }
      ]
    },
    {
      "cell_type": "code",
      "metadata": {
        "colab": {
          "base_uri": "https://localhost:8080/"
        },
        "id": "MTcRFLJBGbEF",
        "outputId": "bf0b7e40-1421-4b52-da38-bce85006dc34"
      },
      "source": [
        "#question4\n",
        "import numpy as np\n",
        "x=2\n",
        "arr=np.array([[1,2],[3,5]])\n",
        "l=arr.shape\n",
        "for i in range (2):\n",
        "  for j in range (0,2):\n",
        "    b=arr[i,j]\n",
        "    if b>x:\n",
        "      print(b)\n",
        "\n"
      ],
      "execution_count": null,
      "outputs": [
        {
          "output_type": "stream",
          "name": "stdout",
          "text": [
            "3\n",
            "5\n"
          ]
        }
      ]
    },
    {
      "cell_type": "code",
      "metadata": {
        "colab": {
          "base_uri": "https://localhost:8080/"
        },
        "id": "Nka6FU6YA79h",
        "outputId": "7ec93390-e84e-433f-fc45-497d5959e25e"
      },
      "source": [
        "#question5\n",
        "import numpy as np\n",
        "from random import *\n",
        "a = np.random.randint(3, 8,size=(10,5))\n",
        "print(a)\n",
        "b = a - a.mean(axis=1, keepdims=True)\n",
        "print(b)"
      ],
      "execution_count": 36,
      "outputs": [
        {
          "output_type": "stream",
          "name": "stdout",
          "text": [
            "[[5 6 5 4 3]\n",
            " [6 7 3 3 7]\n",
            " [5 6 3 7 7]\n",
            " [3 7 4 4 5]\n",
            " [4 3 7 4 7]\n",
            " [5 4 6 4 4]\n",
            " [4 3 7 4 4]\n",
            " [4 6 5 4 6]\n",
            " [4 6 4 7 6]\n",
            " [3 5 3 3 7]]\n",
            "[[ 0.4  1.4  0.4 -0.6 -1.6]\n",
            " [ 0.8  1.8 -2.2 -2.2  1.8]\n",
            " [-0.6  0.4 -2.6  1.4  1.4]\n",
            " [-1.6  2.4 -0.6 -0.6  0.4]\n",
            " [-1.  -2.   2.  -1.   2. ]\n",
            " [ 0.4 -0.6  1.4 -0.6 -0.6]\n",
            " [-0.4 -1.4  2.6 -0.4 -0.4]\n",
            " [-1.   1.   0.  -1.   1. ]\n",
            " [-1.4  0.6 -1.4  1.6  0.6]\n",
            " [-1.2  0.8 -1.2 -1.2  2.8]]\n"
          ]
        }
      ]
    }
  ]
}