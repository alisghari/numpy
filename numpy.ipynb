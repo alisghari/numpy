{
  "nbformat": 4,
  "nbformat_minor": 0,
  "metadata": {
    "colab": {
      "name": "numpy.ipynb",
      "provenance": []
    },
    "kernelspec": {
      "name": "python3",
      "display_name": "Python 3"
    },
    "language_info": {
      "name": "python"
    }
  },
  "cells": [
    {
      "cell_type": "code",
      "metadata": {
        "colab": {
          "base_uri": "https://localhost:8080/"
        },
        "id": "l8dyb-etlGex",
        "outputId": "ba91c89b-f459-411a-e20a-5b5a3880c414"
      },
      "source": [
        "import numpy as np\n",
        "arr=np.array([1,2,3])\n",
        "convert=arr.tolist()\n",
        "print(convert)\n"
      ],
      "execution_count": 3,
      "outputs": [
        {
          "output_type": "stream",
          "name": "stdout",
          "text": [
            "[1, 2, 3]\n"
          ]
        }
      ]
    },
    {
      "cell_type": "code",
      "metadata": {
        "colab": {
          "base_uri": "https://localhost:8080/"
        },
        "id": "tSJBipBmp6KS",
        "outputId": "1702d1aa-031f-444b-bceb-6cd369596b10"
      },
      "source": [
        "import numpy as np\n",
        "m = np.arange(9).reshape(3,3)\n",
        "print (m)\n",
        "r=np.trace(m)\n",
        "print(r)"
      ],
      "execution_count": 7,
      "outputs": [
        {
          "output_type": "stream",
          "name": "stdout",
          "text": [
            "[[0 1 2]\n",
            " [3 4 5]\n",
            " [6 7 8]]\n",
            "12\n"
          ]
        }
      ]
    },
    {
      "cell_type": "code",
      "metadata": {
        "colab": {
          "base_uri": "https://localhost:8080/"
        },
        "id": "8IUt3NcfulWx",
        "outputId": "2360a3c4-1f9f-4dfb-e5de-51b44da387b9"
      },
      "source": [
        "import numpy as np\n",
        "\n",
        "A=np.array([1,2,3])\n",
        "B=np.array([8,69,45])\n",
        "C=[]\n",
        "for i in range (0,len(A)):\n",
        "  a=A[i]\n",
        "  \n",
        "  for j in range (0,i+1):\n",
        "    b=B[j]\n",
        "    \n",
        "  s=a+b\n",
        "  l=C.append(s)\n",
        "print(C)\n"
      ],
      "execution_count": 37,
      "outputs": [
        {
          "output_type": "stream",
          "name": "stdout",
          "text": [
            "[9, 71, 48]\n"
          ]
        }
      ]
    },
    {
      "cell_type": "code",
      "metadata": {
        "colab": {
          "base_uri": "https://localhost:8080/"
        },
        "id": "MTcRFLJBGbEF",
        "outputId": "bf0b7e40-1421-4b52-da38-bce85006dc34"
      },
      "source": [
        "import numpy as np\n",
        "x=2\n",
        "arr=np.array([[1,2],[3,5]])\n",
        "l=arr.shape\n",
        "for i in range (2):\n",
        "  for j in range (0,2):\n",
        "    b=arr[i,j]\n",
        "    if b>x:\n",
        "      print(b)\n",
        "\n"
      ],
      "execution_count": 79,
      "outputs": [
        {
          "output_type": "stream",
          "name": "stdout",
          "text": [
            "3\n",
            "5\n"
          ]
        }
      ]
    },
    {
      "cell_type": "code",
      "metadata": {
        "colab": {
          "base_uri": "https://localhost:8080/"
        },
        "id": "Nka6FU6YA79h",
        "outputId": "e0c26251-11ed-4790-c498-d8a4da1512ba"
      },
      "source": [
        "import numpy as np\n",
        "from random import *\n",
        "a=randint(1,10)\n",
        "b=randint(1,10)\n",
        "X = np.random.random((a,b))\n",
        "m=X.mean(axis=1, keepdims=True)\n",
        "print(m)"
      ],
      "execution_count": 53,
      "outputs": [
        {
          "output_type": "stream",
          "name": "stdout",
          "text": [
            "[[0.62183977]\n",
            " [0.41758642]\n",
            " [0.47188782]\n",
            " [0.49344167]]\n"
          ]
        }
      ]
    }
  ]
}